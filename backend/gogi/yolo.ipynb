{
 "cells": [
  {
   "cell_type": "code",
   "execution_count": 1,
   "metadata": {},
   "outputs": [
    {
     "name": "stdout",
     "output_type": "stream",
     "text": [
      "Ultralytics YOLOv8.2.13  Python-3.12.1 torch-2.2.2+cpu CPU (AMD Ryzen 7 5700U with Radeon Graphics)\n",
      "Setup complete  (16 CPUs, 15.3 GB RAM, 268.4/475.7 GB disk)\n"
     ]
    }
   ],
   "source": [
    "%pip install ultralytics\n",
    "import ultralytics\n",
    "ultralytics.checks()"
   ]
  },
  {
   "cell_type": "code",
   "execution_count": 2,
   "metadata": {},
   "outputs": [
    {
     "name": "stdout",
     "output_type": "stream",
     "text": [
      "Ultralytics YOLOv8.2.13 🚀 Python-3.12.1 torch-2.2.2+cpu CPU (AMD Ryzen 7 5700U with Radeon Graphics)\n",
      "YOLOv8n summary (fused): 168 layers, 3151904 parameters, 0 gradients, 8.7 GFLOPs\n",
      "\n",
      "\u001b[34m\u001b[1mPyTorch:\u001b[0m starting from 'yolov8n.pt' with input shape (1, 3, 640, 640) BCHW and output shape(s) (1, 84, 8400) (6.2 MB)\n",
      "\n",
      "\u001b[34m\u001b[1mTorchScript:\u001b[0m starting export with torch 2.2.2+cpu...\n",
      "\u001b[34m\u001b[1mTorchScript:\u001b[0m export success ✅ 2.3s, saved as 'yolov8n.torchscript' (12.4 MB)\n",
      "\n",
      "Export complete (6.8s)\n",
      "Results saved to \u001b[1mC:\\Users\\daniel\\Desktop\\MEAT\\backend\\gogi\u001b[0m\n",
      "Predict:         yolo predict task=detect model=yolov8n.torchscript imgsz=640  \n",
      "Validate:        yolo val task=detect model=yolov8n.torchscript imgsz=640 data=coco.yaml  \n",
      "Visualize:       https://netron.app\n",
      "💡 Learn more at https://docs.ultralytics.com/modes/export\n"
     ]
    }
   ],
   "source": [
    "import torch\n",
    "!yolo export model=yolov8n.pt format=torchscript"
   ]
  },
  {
   "cell_type": "code",
   "execution_count": null,
   "metadata": {},
   "outputs": [],
   "source": [
    "from ultralytics import YOLO\n",
    "\n",
    "# Load a model\n",
    "# model = YOLO('C:/Users/daniel/Desktop/MEAT/backend/gogi/datasets/data.yaml')  # build a new model from scratch\n",
    "model = YOLO('yolov8n.pt')  # load a pretrained model (recommended for training)\n",
    "# Use the model\n",
    "results = model.train(data='C:/Users/daniel/Desktop/MEAT/backend/gogi/datasets/data.yaml', epochs=50)  # train the model\n",
    "results = model.val()  # evaluate model performance on the validation set\n"
   ]
  },
  {
   "cell_type": "code",
   "execution_count": 4,
   "metadata": {},
   "outputs": [
    {
     "name": "stdout",
     "output_type": "stream",
     "text": [
      "\n",
      "image 1/1 C:\\Users\\daniel\\Desktop\\MEAT\\backend\\gogi\\\\0dbc1cf7-edde-4c14-a507-fc9ea2a0a62e.jpg: 640x448 (no detections), 100.0ms\n",
      "Speed: 2.0ms preprocess, 100.0ms inference, 1.0ms postprocess per image at shape (1, 3, 640, 448)\n",
      "Results saved to \u001b[1mruns\\detect\\predict\u001b[0m\n",
      "Predictions for 0dbc1cf7-edde-4c14-a507-fc9ea2a0a62e.jpg saved successfully.\n",
      "\n",
      "image 1/1 C:\\Users\\daniel\\Desktop\\MEAT\\backend\\gogi\\\\0ecc5955-7c25-44b6-8585-77d5807aa187.jpg: 448x640 1 NG raw pork,, 97.0ms\n",
      "Speed: 4.0ms preprocess, 97.0ms inference, 2.0ms postprocess per image at shape (1, 3, 448, 640)\n",
      "Results saved to \u001b[1mruns\\detect\\predict\u001b[0m\n",
      "Predictions for 0ecc5955-7c25-44b6-8585-77d5807aa187.jpg saved successfully.\n",
      "\n",
      "image 1/1 C:\\Users\\daniel\\Desktop\\MEAT\\backend\\gogi\\\\1cab5fa1-02f1-44c7-9074-0e8afcf6abc1.jpg: 480x640 (no detections), 87.0ms\n",
      "Speed: 4.0ms preprocess, 87.0ms inference, 0.0ms postprocess per image at shape (1, 3, 480, 640)\n",
      "Results saved to \u001b[1mruns\\detect\\predict\u001b[0m\n",
      "Predictions for 1cab5fa1-02f1-44c7-9074-0e8afcf6abc1.jpg saved successfully.\n",
      "\n",
      "image 1/1 C:\\Users\\daniel\\Desktop\\MEAT\\backend\\gogi\\\\1fe72654-7766-4a26-92d1-c5869cf46a93.jpg: 384x640 (no detections), 117.0ms\n",
      "Speed: 3.0ms preprocess, 117.0ms inference, 1.0ms postprocess per image at shape (1, 3, 384, 640)\n",
      "Results saved to \u001b[1mruns\\detect\\predict\u001b[0m\n",
      "Predictions for 1fe72654-7766-4a26-92d1-c5869cf46a93.jpg saved successfully.\n",
      "\n",
      "image 1/1 C:\\Users\\daniel\\Desktop\\MEAT\\backend\\gogi\\\\25d97085-dbd1-43e5-ba1f-89c43b449392.jpg: 448x640 6 OK cooked pork,s, 89.6ms\n",
      "Speed: 4.0ms preprocess, 89.6ms inference, 1.0ms postprocess per image at shape (1, 3, 448, 640)\n",
      "Results saved to \u001b[1mruns\\detect\\predict\u001b[0m\n",
      "Predictions for 25d97085-dbd1-43e5-ba1f-89c43b449392.jpg saved successfully.\n",
      "\n",
      "image 1/1 C:\\Users\\daniel\\Desktop\\MEAT\\backend\\gogi\\\\2f3d31f8-57fa-4a7e-8bf5-a7832d4895e8.jpg: 640x448 18 OK cooked pork,s, 88.6ms\n",
      "Speed: 2.0ms preprocess, 88.6ms inference, 4.0ms postprocess per image at shape (1, 3, 640, 448)\n",
      "Results saved to \u001b[1mruns\\detect\\predict\u001b[0m\n",
      "Predictions for 2f3d31f8-57fa-4a7e-8bf5-a7832d4895e8.jpg saved successfully.\n",
      "\n",
      "image 1/1 C:\\Users\\daniel\\Desktop\\MEAT\\backend\\gogi\\\\3c43a385-d62c-4a08-b93d-a0c8b0f96792.jpg: 448x640 4 OK cooked pork,s, 76.0ms\n",
      "Speed: 2.0ms preprocess, 76.0ms inference, 1.5ms postprocess per image at shape (1, 3, 448, 640)\n",
      "Results saved to \u001b[1mruns\\detect\\predict\u001b[0m\n",
      "Predictions for 3c43a385-d62c-4a08-b93d-a0c8b0f96792.jpg saved successfully.\n",
      "\n",
      "image 1/1 C:\\Users\\daniel\\Desktop\\MEAT\\backend\\gogi\\\\4a16674d-cd3d-424d-8649-92fa434aa4ff.jpg: 448x640 1 NG raw beef,, 72.0ms\n",
      "Speed: 2.0ms preprocess, 72.0ms inference, 1.0ms postprocess per image at shape (1, 3, 448, 640)\n",
      "Results saved to \u001b[1mruns\\detect\\predict\u001b[0m\n",
      "Predictions for 4a16674d-cd3d-424d-8649-92fa434aa4ff.jpg saved successfully.\n",
      "\n",
      "image 1/1 C:\\Users\\daniel\\Desktop\\MEAT\\backend\\gogi\\\\56be5c3d-1604-4405-abe7-f28fcf738256.jpg: 448x640 3 NG raw pork,s, 73.0ms\n",
      "Speed: 2.0ms preprocess, 73.0ms inference, 2.0ms postprocess per image at shape (1, 3, 448, 640)\n",
      "Results saved to \u001b[1mruns\\detect\\predict\u001b[0m\n",
      "Predictions for 56be5c3d-1604-4405-abe7-f28fcf738256.jpg saved successfully.\n",
      "\n",
      "image 1/1 C:\\Users\\daniel\\Desktop\\MEAT\\backend\\gogi\\\\63d3082f-71e0-4328-af19-513cb351f78d.jpg: 448x640 (no detections), 79.0ms\n",
      "Speed: 3.0ms preprocess, 79.0ms inference, 0.0ms postprocess per image at shape (1, 3, 448, 640)\n",
      "Results saved to \u001b[1mruns\\detect\\predict\u001b[0m\n",
      "Predictions for 63d3082f-71e0-4328-af19-513cb351f78d.jpg saved successfully.\n",
      "\n",
      "image 1/1 C:\\Users\\daniel\\Desktop\\MEAT\\backend\\gogi\\\\6a60851c-f4e4-457e-9df9-22a94eb1af5f.jpg: 448x640 12 OK cooked pork,s, 77.0ms\n",
      "Speed: 3.0ms preprocess, 77.0ms inference, 1.0ms postprocess per image at shape (1, 3, 448, 640)\n",
      "Results saved to \u001b[1mruns\\detect\\predict\u001b[0m\n",
      "Predictions for 6a60851c-f4e4-457e-9df9-22a94eb1af5f.jpg saved successfully.\n",
      "\n",
      "image 1/1 C:\\Users\\daniel\\Desktop\\MEAT\\backend\\gogi\\\\7c0f40d6-0a8e-4c8a-91ad-318b58696552.jpg: 480x640 1 NG raw pork,, 79.1ms\n",
      "Speed: 2.0ms preprocess, 79.1ms inference, 1.0ms postprocess per image at shape (1, 3, 480, 640)\n",
      "Results saved to \u001b[1mruns\\detect\\predict\u001b[0m\n",
      "Predictions for 7c0f40d6-0a8e-4c8a-91ad-318b58696552.jpg saved successfully.\n",
      "\n",
      "image 1/1 C:\\Users\\daniel\\Desktop\\MEAT\\backend\\gogi\\\\88f68ae7-b6e5-42d0-98ae-a7573134447f.jpg: 448x640 1 NG raw pork,, 101.0ms\n",
      "Speed: 2.0ms preprocess, 101.0ms inference, 1.0ms postprocess per image at shape (1, 3, 448, 640)\n",
      "Results saved to \u001b[1mruns\\detect\\predict\u001b[0m\n",
      "Predictions for 88f68ae7-b6e5-42d0-98ae-a7573134447f.jpg saved successfully.\n",
      "\n",
      "image 1/1 C:\\Users\\daniel\\Desktop\\MEAT\\backend\\gogi\\\\8a5b1d36-8b5e-4824-b74c-1c55c0c92722.jpg: 448x640 1 OK cooked pork,, 87.0ms\n",
      "Speed: 2.0ms preprocess, 87.0ms inference, 1.1ms postprocess per image at shape (1, 3, 448, 640)\n",
      "Results saved to \u001b[1mruns\\detect\\predict\u001b[0m\n",
      "Predictions for 8a5b1d36-8b5e-4824-b74c-1c55c0c92722.jpg saved successfully.\n",
      "\n",
      "image 1/1 C:\\Users\\daniel\\Desktop\\MEAT\\backend\\gogi\\\\91efd2c6-e776-4727-b5c3-9bccedb98a04.jpg: 448x640 1 OK cooked pork,, 79.5ms\n",
      "Speed: 1.7ms preprocess, 79.5ms inference, 1.1ms postprocess per image at shape (1, 3, 448, 640)\n",
      "Results saved to \u001b[1mruns\\detect\\predict\u001b[0m\n",
      "Predictions for 91efd2c6-e776-4727-b5c3-9bccedb98a04.jpg saved successfully.\n"
     ]
    }
   ],
   "source": [
    "from ultralytics import YOLO\n",
    "import os\n",
    "model = YOLO('./runs/detect/train10/weights/best.pt')\n",
    "folder_path = \"C:/Users/daniel/Desktop/MEAT/backend/gogi/테스트사진\"\n",
    "\n",
    "# 폴더 안에 있는 모든 파일 순회\n",
    "for filename in os.listdir(folder_path):\n",
    "    # 파일 경로 생성\n",
    "    file_path = os.path.join(folder_path, filename)\n",
    "    \n",
    "    # 이미지 파일인 경우에만 예측 수행\n",
    "    if os.path.isfile(file_path) and filename.lower().endswith(('.png', '.jpg', '.jpeg')):\n",
    "        # YOLO 모델로 예측 수행\n",
    "        result = model.predict(source=file_path, save=True)\n",
    "        print(f\"Predictions for {filename} saved successfully.\")\n",
    "    else:\n",
    "        print(f\"{filename} is not an image file. Skipping...\")"
   ]
  },
  {
   "cell_type": "code",
   "execution_count": 16,
   "metadata": {},
   "outputs": [
    {
     "ename": "AttributeError",
     "evalue": "'Tensor' object has no attribute 'value'",
     "output_type": "error",
     "traceback": [
      "\u001b[1;31m---------------------------------------------------------------------------\u001b[0m",
      "\u001b[1;31mAttributeError\u001b[0m                            Traceback (most recent call last)",
      "Cell \u001b[1;32mIn[16], line 7\u001b[0m\n\u001b[0;32m      1\u001b[0m \u001b[38;5;66;03m# boxes = result[0].boxes\u001b[39;00m\n\u001b[0;32m      2\u001b[0m \u001b[38;5;66;03m# box = boxes[0]  # returns one box\u001b[39;00m\n\u001b[0;32m      3\u001b[0m \u001b[38;5;66;03m# print(box.xyxy)\u001b[39;00m\n\u001b[0;32m      4\u001b[0m \u001b[38;5;66;03m# print(box.conf)\u001b[39;00m\n\u001b[0;32m      5\u001b[0m plot \u001b[38;5;241m=\u001b[39m result[\u001b[38;5;241m0\u001b[39m]\u001b[38;5;241m.\u001b[39mboxes\n\u001b[1;32m----> 7\u001b[0m \u001b[38;5;28mprint\u001b[39m(\u001b[43mplot\u001b[49m\u001b[38;5;241;43m.\u001b[39;49m\u001b[43mcls\u001b[49m\u001b[38;5;241;43m.\u001b[39;49m\u001b[43mvalue\u001b[49m)\n\u001b[0;32m      8\u001b[0m \u001b[38;5;66;03m# result = model.export(format='onnx')\u001b[39;00m\n",
      "\u001b[1;31mAttributeError\u001b[0m: 'Tensor' object has no attribute 'value'"
     ]
    }
   ],
   "source": [
    "# boxes = result[0].boxes\n",
    "# box = boxes[0]  # returns one box\n",
    "# print(box.xyxy)\n",
    "# print(box.conf)\n",
    "plot = result[0].boxes\n",
    "\n",
    "print(plot.cls.value())\n",
    "# result = model.export(format='onnx')"
   ]
  },
  {
   "cell_type": "code",
   "execution_count": null,
   "metadata": {},
   "outputs": [],
   "source": []
  }
 ],
 "metadata": {
  "kernelspec": {
   "display_name": "Python 3",
   "language": "python",
   "name": "python3"
  },
  "language_info": {
   "codemirror_mode": {
    "name": "ipython",
    "version": 3
   },
   "file_extension": ".py",
   "mimetype": "text/x-python",
   "name": "python",
   "nbconvert_exporter": "python",
   "pygments_lexer": "ipython3",
   "version": "3.12.1"
  }
 },
 "nbformat": 4,
 "nbformat_minor": 2
}
